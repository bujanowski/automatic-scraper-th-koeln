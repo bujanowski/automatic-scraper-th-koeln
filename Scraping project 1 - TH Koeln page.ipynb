{
 "cells": [
  {
   "cell_type": "markdown",
   "id": "4a5c4f3c",
   "metadata": {},
   "source": [
    "Building an automated scraper https://columbia.hosted.panopto.com/Panopto/Pages/Viewer.aspx?id=3752384e-1b59-4429-b30d-ad6301262733"
   ]
  },
  {
   "cell_type": "markdown",
   "id": "3e3570d4",
   "metadata": {},
   "source": [
    "Scraping BBC website https://columbia.hosted.panopto.com/Panopto/Pages/Viewer.aspx?id=aeff3d16-0b3c-4ab7-a84c-ad5d0133d80b"
   ]
  },
  {
   "cell_type": "markdown",
   "id": "5f6fbcd4",
   "metadata": {},
   "source": [
    "Soma's github - https://github.com/jsoma/autoscraper-changes"
   ]
  },
  {
   "cell_type": "markdown",
   "id": "c4d3064d",
   "metadata": {},
   "source": [
    "Soma, scraping review - https://columbia.hosted.panopto.com/Panopto/Pages/Viewer.aspx?id=aeff3d16-0b3c-4ab7-a84c-ad5d0133d80b"
   ]
  },
  {
   "cell_type": "code",
   "execution_count": 180,
   "id": "5e8df6be",
   "metadata": {},
   "outputs": [],
   "source": [
    "import requests"
   ]
  },
  {
   "cell_type": "code",
   "execution_count": 181,
   "id": "6b75d856",
   "metadata": {},
   "outputs": [],
   "source": [
    "from bs4 import BeautifulSoup"
   ]
  },
  {
   "cell_type": "code",
   "execution_count": 182,
   "id": "bf41ee85",
   "metadata": {},
   "outputs": [],
   "source": [
    "import pandas as pd"
   ]
  },
  {
   "cell_type": "code",
   "execution_count": 183,
   "id": "19ef9157",
   "metadata": {},
   "outputs": [],
   "source": [
    "response = requests.get('https://www.th-koeln.de/en/academics/web-science-masters-program--for-students_7219.php') \n",
    "doc = BeautifulSoup(response.text, 'html.parser')"
   ]
  },
  {
   "cell_type": "code",
   "execution_count": 184,
   "id": "aee1719f",
   "metadata": {
    "scrolled": true
   },
   "outputs": [
    {
     "data": {
      "text/plain": [
       "[<a class=\"link external invert jsCheck4Intern\" data-origin=\"public\" href=\"http://www.f10.fh-koeln.de/campus/institute/informatik/index.html\" target=\"_blank\" title=\"Link opens in a new window\">\n",
       "                     Institute of Computer Science <br/> [in German]\n",
       " \n",
       "                 </a>,\n",
       " <a class=\"link external invert jsCheck4Intern\" data-origin=\"public\" href=\"http://www.f10.fh-koeln.de/campus/institute/idf/index.html\" target=\"_blank\" title=\"Link opens in a new window\">\n",
       "                     Institute of Distance Learning &amp; Further Education (IDF) <br/> [in German]\n",
       " \n",
       "                 </a>,\n",
       " <a class=\"link external invert jsCheck4Intern\" data-origin=\"public\" href=\"http://www.verbundstudium.de\" target=\"_blank\" title=\"Link opens in a new window\">\n",
       "                     Institute of Joint Degree Programs in North Rhine-Westphalia <br/> [in German]\n",
       " \n",
       "                 </a>,\n",
       " <a class=\"external jsCheck4Intern\" href=\"https://th-koeln.sciebo.de/s/XI1fHQJc9u4UNei\" target=\"_blank\" title=\"Link öffnet in einem neuen Fenster\">schedule for 2nd Web Science Weekend </a>,\n",
       " <a class=\"external jsCheck4Intern\" href=\"https://th-koeln.sciebo.de/s/SROmBQ4C5OyMuqa\" target=\"_blank\" title=\"Link öffnet in einem neuen Fenster\">schedule for semester kick-off weekend </a>,\n",
       " <a class=\"external jsCheck4Intern\" href=\"https://ilias.th-koeln.de/\" target=\"_blank\" title=\"Link öffnet in einem neuen Fenster\">https://ilias.th-koeln.de/</a>,\n",
       " <a class=\"external jsCheck4Intern\" href=\"https://th-koeln.sciebo.de/s/xT31lW4rHWoEmfn\" target=\"_blank\" title=\"Link öffnet in einem neuen Fenster\">schedule for online sessions</a>,\n",
       " <a class=\"external jsCheck4Intern\" href=\"https://th-koeln.sciebo.de/s/DB3nUFKCwUTtJtw\" target=\"_blank\" title=\"Link öffnet in einem neuen Fenster\">schedule for 2nd Web Science Weekend</a>,\n",
       " <a class=\"external jsCheck4Intern\" href=\"https://th-koeln.sciebo.de/s/fr1WdfnqQxRm2NN\" target=\"_blank\" title=\"Link öffnet in einem neuen Fenster\">schedule for semester kick-off weekend </a>,\n",
       " <a class=\"external jsCheck4Intern\" href=\"https://ilias.th-koeln.de/\" target=\"_blank\" title=\"Link öffnet in einem neuen Fenster\">https://ilias.th-koeln.de/</a>,\n",
       " <a class=\"external jsCheck4Intern\" href=\"https://th-koeln.sciebo.de/s/0hRDZHRjWYKVIXp\" target=\"_blank\" title=\"Link öffnet in einem neuen Fenster\">schedule for online sessions</a>,\n",
       " <a class=\"external jsCheck4Intern\" href=\"https://ilias.th-koeln.de/goto.php?target=fold_1778310&amp;client_id=ILIAS_FH_Koeln\" target=\"_blank\" title=\"Link öffnet in einem neuen Fenster\">here in the corresponding Ilias course</a>,\n",
       " <a class=\"link external jsCheck4Intern\" data-origin=\"public\" href=\"https://ilias.th-koeln.de/goto.php?target=cat_1199042&amp;client_id=ILIAS_FH_Koeln\" target=\"_blank\" title=\"Link opens in a new window\">ILIAS</a>]"
      ]
     },
     "execution_count": 184,
     "metadata": {},
     "output_type": "execute_result"
    }
   ],
   "source": [
    "doc.select('.jsCheck4Intern')"
   ]
  },
  {
   "cell_type": "code",
   "execution_count": 185,
   "id": "0eefe733",
   "metadata": {},
   "outputs": [],
   "source": [
    "schedule = doc.select('.jsCheck4Intern')"
   ]
  },
  {
   "cell_type": "code",
   "execution_count": 186,
   "id": "e6290c69",
   "metadata": {},
   "outputs": [],
   "source": [
    "rows = []"
   ]
  },
  {
   "cell_type": "code",
   "execution_count": 187,
   "id": "573548e9",
   "metadata": {
    "scrolled": true
   },
   "outputs": [
    {
     "name": "stdout",
     "output_type": "stream",
     "text": [
      "----------\n",
      "Institute of Computer Science  [in German]\n",
      "----------\n",
      "Institute of Distance Learning & Further Education (IDF)  [in German]\n",
      "----------\n",
      "Institute of Joint Degree Programs in North Rhine-Westphalia  [in German]\n",
      "----------\n",
      "schedule for 2nd Web Science Weekend\n",
      "----------\n",
      "schedule for semester kick-off weekend\n",
      "----------\n",
      "https://ilias.th-koeln.de/\n",
      "----------\n",
      "schedule for online sessions\n",
      "----------\n",
      "schedule for 2nd Web Science Weekend\n",
      "----------\n",
      "schedule for semester kick-off weekend\n",
      "----------\n",
      "https://ilias.th-koeln.de/\n",
      "----------\n",
      "schedule for online sessions\n",
      "----------\n",
      "here in the corresponding Ilias course\n",
      "----------\n",
      "ILIAS\n"
     ]
    }
   ],
   "source": [
    "for new in schedule:\n",
    "    print('----------')\n",
    "    row = {}\n",
    "    print (new.text.strip())\n",
    "    row['link'] = new.text.strip()\n",
    "    rows.append(row)"
   ]
  },
  {
   "cell_type": "code",
   "execution_count": 188,
   "id": "e47ecef7",
   "metadata": {},
   "outputs": [
    {
     "name": "stdout",
     "output_type": "stream",
     "text": [
      "[{'link': 'Institute of Computer Science  [in German]'}, {'link': 'Institute of Distance Learning & Further Education (IDF)  [in German]'}, {'link': 'Institute of Joint Degree Programs in North Rhine-Westphalia  [in German]'}, {'link': 'schedule for 2nd Web Science Weekend'}, {'link': 'schedule for semester kick-off weekend'}, {'link': 'https://ilias.th-koeln.de/'}, {'link': 'schedule for online sessions'}, {'link': 'schedule for 2nd Web Science Weekend'}, {'link': 'schedule for semester kick-off weekend'}, {'link': 'https://ilias.th-koeln.de/'}, {'link': 'schedule for online sessions'}, {'link': 'here in the corresponding Ilias course'}, {'link': 'ILIAS'}]\n"
     ]
    }
   ],
   "source": [
    "print(rows)"
   ]
  },
  {
   "cell_type": "code",
   "execution_count": 189,
   "id": "6b3b0dd2",
   "metadata": {},
   "outputs": [],
   "source": [
    "df = pd.DataFrame(rows)"
   ]
  },
  {
   "cell_type": "code",
   "execution_count": 190,
   "id": "bcd7cf7d",
   "metadata": {},
   "outputs": [
    {
     "data": {
      "text/html": [
       "<div>\n",
       "<style scoped>\n",
       "    .dataframe tbody tr th:only-of-type {\n",
       "        vertical-align: middle;\n",
       "    }\n",
       "\n",
       "    .dataframe tbody tr th {\n",
       "        vertical-align: top;\n",
       "    }\n",
       "\n",
       "    .dataframe thead th {\n",
       "        text-align: right;\n",
       "    }\n",
       "</style>\n",
       "<table border=\"1\" class=\"dataframe\">\n",
       "  <thead>\n",
       "    <tr style=\"text-align: right;\">\n",
       "      <th></th>\n",
       "      <th>link</th>\n",
       "    </tr>\n",
       "  </thead>\n",
       "  <tbody>\n",
       "    <tr>\n",
       "      <th>0</th>\n",
       "      <td>Institute of Computer Science  [in German]</td>\n",
       "    </tr>\n",
       "    <tr>\n",
       "      <th>1</th>\n",
       "      <td>Institute of Distance Learning &amp; Further Educa...</td>\n",
       "    </tr>\n",
       "    <tr>\n",
       "      <th>2</th>\n",
       "      <td>Institute of Joint Degree Programs in North Rh...</td>\n",
       "    </tr>\n",
       "    <tr>\n",
       "      <th>3</th>\n",
       "      <td>schedule for 2nd Web Science Weekend</td>\n",
       "    </tr>\n",
       "    <tr>\n",
       "      <th>4</th>\n",
       "      <td>schedule for semester kick-off weekend</td>\n",
       "    </tr>\n",
       "    <tr>\n",
       "      <th>5</th>\n",
       "      <td>https://ilias.th-koeln.de/</td>\n",
       "    </tr>\n",
       "    <tr>\n",
       "      <th>6</th>\n",
       "      <td>schedule for online sessions</td>\n",
       "    </tr>\n",
       "    <tr>\n",
       "      <th>7</th>\n",
       "      <td>schedule for 2nd Web Science Weekend</td>\n",
       "    </tr>\n",
       "    <tr>\n",
       "      <th>8</th>\n",
       "      <td>schedule for semester kick-off weekend</td>\n",
       "    </tr>\n",
       "    <tr>\n",
       "      <th>9</th>\n",
       "      <td>https://ilias.th-koeln.de/</td>\n",
       "    </tr>\n",
       "    <tr>\n",
       "      <th>10</th>\n",
       "      <td>schedule for online sessions</td>\n",
       "    </tr>\n",
       "    <tr>\n",
       "      <th>11</th>\n",
       "      <td>here in the corresponding Ilias course</td>\n",
       "    </tr>\n",
       "    <tr>\n",
       "      <th>12</th>\n",
       "      <td>ILIAS</td>\n",
       "    </tr>\n",
       "  </tbody>\n",
       "</table>\n",
       "</div>"
      ],
      "text/plain": [
       "                                                 link\n",
       "0          Institute of Computer Science  [in German]\n",
       "1   Institute of Distance Learning & Further Educa...\n",
       "2   Institute of Joint Degree Programs in North Rh...\n",
       "3                schedule for 2nd Web Science Weekend\n",
       "4              schedule for semester kick-off weekend\n",
       "5                          https://ilias.th-koeln.de/\n",
       "6                        schedule for online sessions\n",
       "7                schedule for 2nd Web Science Weekend\n",
       "8              schedule for semester kick-off weekend\n",
       "9                          https://ilias.th-koeln.de/\n",
       "10                       schedule for online sessions\n",
       "11             here in the corresponding Ilias course\n",
       "12                                              ILIAS"
      ]
     },
     "execution_count": 190,
     "metadata": {},
     "output_type": "execute_result"
    }
   ],
   "source": [
    "df"
   ]
  },
  {
   "cell_type": "code",
   "execution_count": 191,
   "id": "c761f5b4",
   "metadata": {},
   "outputs": [],
   "source": [
    "df.to_csv(\"th-koeln_update.csv\", index=False)"
   ]
  },
  {
   "cell_type": "code",
   "execution_count": null,
   "id": "7239cd47",
   "metadata": {},
   "outputs": [],
   "source": []
  },
  {
   "cell_type": "code",
   "execution_count": null,
   "id": "4791e0f9",
   "metadata": {},
   "outputs": [],
   "source": []
  },
  {
   "cell_type": "code",
   "execution_count": null,
   "id": "8ecc98db",
   "metadata": {},
   "outputs": [],
   "source": []
  }
 ],
 "metadata": {
  "kernelspec": {
   "display_name": "Python 3",
   "language": "python",
   "name": "python3"
  },
  "language_info": {
   "codemirror_mode": {
    "name": "ipython",
    "version": 3
   },
   "file_extension": ".py",
   "mimetype": "text/x-python",
   "name": "python",
   "nbconvert_exporter": "python",
   "pygments_lexer": "ipython3",
   "version": "3.9.5"
  }
 },
 "nbformat": 4,
 "nbformat_minor": 5
}
